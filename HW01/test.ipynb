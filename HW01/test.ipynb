{
 "cells": [
  {
   "cell_type": "markdown",
   "id": "3da51830-77c1-43f8-90ba-1683e37dba2f",
   "metadata": {},
   "source": [
    "<h1>Homework 1"
   ]
  },
  {
   "cell_type": "markdown",
   "id": "f8b4bb18-ab94-4cce-ba53-3e2f66448a15",
   "metadata": {},
   "source": [
    "<h2>第一題 [myknn_regressor]"
   ]
  },
  {
   "cell_type": "markdown",
   "id": "eff3ace8-80b9-4051-be8d-7bbbc497eb17",
   "metadata": {},
   "source": [
    "<h3>Q1.1"
   ]
  },
  {
   "cell_type": "code",
   "execution_count": 1,
   "id": "fc3bbc78-dd59-4731-a05c-3fcdab7d2921",
   "metadata": {},
   "outputs": [],
   "source": [
    "import numpy as np\n",
    "\n",
    "# KNN functions\n",
    "class myknn_regressor():\n",
    "    def __init__(self, n_neighbors = 10, mean_type = \"equal_weight\"):\n",
    "        \"\"\"mean_type can be equal_weight or remove_outliers.\n",
    "                      equal_weight use the same weight for all neighbors.\n",
    "                      remove_outliers remove neighbors out in [Q1 - 1.5 IQR, Q3 + 1.5IQR].\"\"\"\n",
    "        self.k = n_neighbors\n",
    "        if mean_type == \"remove_outliers\" and self.k >= 10:\n",
    "            self.remove = 1;\n",
    "        else:\n",
    "            self.remove = 0;\n",
    "\n",
    "    def fit(self, x_train, y_train):\n",
    "        self.x_train = x_train\n",
    "        self.y_train = y_train\n",
    "\n",
    "    def predict(self, x_test):\n",
    "        \"\"\"use remove_outliers only if k>=10\"\"\"\n",
    "        self.y_pred = []\n",
    "        for u in range(x_test.shape[0]):\n",
    "            # Calculate distance\n",
    "            distance = []\n",
    "            for i in range(self.x_train.shape[0]):\n",
    "                distance.append(np.sum(np.square(x_test[u,:] - self.x_train[i,:])))\n",
    "            \n",
    "            # Choose K nearest\n",
    "            k_nearest = np.argsort(distance)[-self.k:]\n",
    "            np.sort\n",
    "            \n",
    "            # Remove outliers\n",
    "            if self.remove == 1:\n",
    "                q1 = np.quantile(k_nearest, .25)\n",
    "                q3 = np.quantile(k_nearest, .75)\n",
    "                iqr = q3 - q1\n",
    "                ub = q3 + (1.5 * iqr)\n",
    "                lb = q1 - (1.5 * iqr)\n",
    "                nk_nearest = []\n",
    "                for y in k_nearest:\n",
    "                    if y >= lb and y <= ub:\n",
    "                        nk_nearest.append(y)\n",
    "                k_nearest = nk_nearest\n",
    "               \n",
    "            # Predict y\n",
    "            Ypred = 0\n",
    "            for y in k_nearest:\n",
    "                Ypred += y\n",
    "            Ypred = (Ypred / len(k_nearest))\n",
    "            self.y_pred.append(Ypred)\n",
    "                \n",
    "        return self.y_pred"
   ]
  },
  {
   "cell_type": "code",
   "execution_count": 10,
   "id": "5af21de4-0819-48d9-a3f9-799b9e495933",
   "metadata": {},
   "outputs": [],
   "source": [
    "# Import training and testing data\n",
    "import pickle\n",
    "from sklearn import preprocessing\n",
    "import numpy as np\n",
    "\n",
    "# Load data\n",
    "with open('msd_data1.pickle', 'rb') as fh1:\n",
    "    msd_data = pickle.load(fh1)\n",
    "\n",
    "doscaling = 1\n",
    "\n",
    "if (doscaling == 1):\n",
    "    xscaler = preprocessing.StandardScaler().fit(msd_data['X_train'])\n",
    "    #standardize feature values\n",
    "    X_train = xscaler.transform(msd_data['X_train'])\n",
    "    X_test = xscaler.transform(msd_data['X_test'])\n",
    "else:\n",
    "    X_train = msd_data['X_train']\n",
    "    X_test = msd_data['X_test']\n",
    "\n",
    "Y_train = msd_data['Y_train']\n",
    "Y_test = msd_data['Y_test']"
   ]
  },
  {
   "cell_type": "markdown",
   "id": "59993b39-f5cf-4d09-ab79-2f2516ed1025",
   "metadata": {},
   "source": [
    "<h3>Q1.2"
   ]
  },
  {
   "cell_type": "code",
   "execution_count": 3,
   "id": "c25afeb2-6f4f-4bfa-8014-0f3fc07da65a",
   "metadata": {},
   "outputs": [],
   "source": [
    "# RMSE Calculator\n",
    "def RMSE(y_test, y_pred):\n",
    "    return (np.sum(np.square(y_test - y_pred)) / y_test.shape[0]) ** 0.5"
   ]
  },
  {
   "cell_type": "code",
   "execution_count": 4,
   "id": "4d472fc9-ed4f-4984-b9cd-54b0ad29276f",
   "metadata": {
    "tags": []
   },
   "outputs": [
    {
     "ename": "ZeroDivisionError",
     "evalue": "division by zero",
     "output_type": "error",
     "traceback": [
      "\u001b[0;31m---------------------------------------------------------------------------\u001b[0m",
      "\u001b[0;31mZeroDivisionError\u001b[0m                         Traceback (most recent call last)",
      "Input \u001b[0;32mIn [4]\u001b[0m, in \u001b[0;36m<cell line: 4>\u001b[0;34m()\u001b[0m\n\u001b[1;32m      2\u001b[0m myknn \u001b[38;5;241m=\u001b[39m myknn_regressor(\u001b[38;5;241m20\u001b[39m, \u001b[38;5;124m\"\u001b[39m\u001b[38;5;124mequal_weight\u001b[39m\u001b[38;5;124m\"\u001b[39m)\n\u001b[1;32m      3\u001b[0m myknn\u001b[38;5;241m.\u001b[39mfit(X_train, Y_train)\n\u001b[0;32m----> 4\u001b[0m ypred2 \u001b[38;5;241m=\u001b[39m \u001b[43mmyknn\u001b[49m\u001b[38;5;241;43m.\u001b[39;49m\u001b[43mpredict\u001b[49m\u001b[43m(\u001b[49m\u001b[43mX_test\u001b[49m\u001b[43m)\u001b[49m\n",
      "Input \u001b[0;32mIn [1]\u001b[0m, in \u001b[0;36mmyknn_regressor.predict\u001b[0;34m(self, x_test)\u001b[0m\n\u001b[1;32m     47\u001b[0m     \u001b[38;5;28;01mfor\u001b[39;00m y \u001b[38;5;129;01min\u001b[39;00m k_nearest:\n\u001b[1;32m     48\u001b[0m         Ypred \u001b[38;5;241m+\u001b[39m\u001b[38;5;241m=\u001b[39m y\n\u001b[0;32m---> 49\u001b[0m     Ypred \u001b[38;5;241m=\u001b[39m (\u001b[43mYpred\u001b[49m\u001b[43m \u001b[49m\u001b[38;5;241;43m/\u001b[39;49m\u001b[43m \u001b[49m\u001b[38;5;28;43mlen\u001b[39;49m\u001b[43m(\u001b[49m\u001b[43mk_nearest\u001b[49m\u001b[43m)\u001b[49m)\n\u001b[1;32m     50\u001b[0m     \u001b[38;5;28mself\u001b[39m\u001b[38;5;241m.\u001b[39my_pred\u001b[38;5;241m.\u001b[39mappend(Ypred)\n\u001b[1;32m     52\u001b[0m \u001b[38;5;28;01mreturn\u001b[39;00m \u001b[38;5;28mself\u001b[39m\u001b[38;5;241m.\u001b[39my_pred\n",
      "\u001b[0;31mZeroDivisionError\u001b[0m: division by zero"
     ]
    }
   ],
   "source": [
    "# Main executing code\n",
    "myknn = myknn_regressor(20, \"equal_weight\")\n",
    "myknn.fit(X_train, Y_train)\n",
    "ypred2 = myknn.predict(X_test)"
   ]
  },
  {
   "cell_type": "code",
   "execution_count": null,
   "id": "ea00afee-6f38-4d4f-9ffd-4cdd3755cfad",
   "metadata": {},
   "outputs": [],
   "source": [
    "# RMSE and 20 data\n",
    "print(\"RMSE =\", RMSE(Y_test, ypred2))\n",
    "for i in range(20):\n",
    "    print(\"Prediction\", i + 1, \":\", ypred2[i])"
   ]
  },
  {
   "cell_type": "markdown",
   "id": "3a51eb22-69e5-4926-91cb-ad74795db5d1",
   "metadata": {},
   "source": [
    "<h3>Q1.3"
   ]
  },
  {
   "cell_type": "code",
   "execution_count": null,
   "id": "111d0f1b-e4f9-403d-9fbe-159ad0d1b188",
   "metadata": {
    "tags": []
   },
   "outputs": [],
   "source": [
    "# Main executing code\n",
    "myknn = myknn_regressor(20, \"remove_outliers\")\n",
    "myknn.fit(X_train, Y_train)\n",
    "ypred3 = myknn.predict(X_test)"
   ]
  },
  {
   "cell_type": "code",
   "execution_count": null,
   "id": "ba11e2fd-f0d5-488a-86d1-894349112878",
   "metadata": {},
   "outputs": [],
   "source": [
    "# RMSE and 20 data\n",
    "print(\"RMSE =\", RMSE(Y_test, ypred3))\n",
    "for i in range(20):\n",
    "    print(\"Prediction\", i + 1, \":\", ypred3[i])"
   ]
  },
  {
   "cell_type": "markdown",
   "id": "7906c53c-7a76-40bf-8eba-9fd991d54f02",
   "metadata": {},
   "source": [
    "<h2>第二題 [Tuning the Hyper-parameter]"
   ]
  },
  {
   "cell_type": "code",
   "execution_count": null,
   "id": "01208bf9-bf61-4cfb-b02a-accb83a248e1",
   "metadata": {},
   "outputs": [],
   "source": [
    "k = [1, 2, 3, 4, 5, 10, 15, 20, 25, 30, 35, 40, 45, 50, 55, 60, 80, 100, 120, 140, 160, 180, 200]"
   ]
  },
  {
   "cell_type": "markdown",
   "id": "54b972b7-1543-4188-80a2-d5678335a987",
   "metadata": {},
   "source": [
    "<h3>Q2.1"
   ]
  },
  {
   "cell_type": "code",
   "execution_count": null,
   "id": "5867cf3e-1f45-42ea-9051-5f9a08382574",
   "metadata": {},
   "outputs": [],
   "source": [
    "# Import training and testing data\n",
    "import pickle\n",
    "from sklearn import preprocessing\n",
    "import numpy as np\n",
    "\n",
    "# Load data\n",
    "with open('msd_data1.pickle', 'rb') as fh1:\n",
    "    msd_data = pickle.load(fh1)\n",
    "\n",
    "doscaling = 1\n",
    "\n",
    "if (doscaling == 1):\n",
    "    xscaler = preprocessing.StandardScaler().fit(msd_data['X_train'])\n",
    "    #standardize feature values\n",
    "    X_train = xscaler.transform(msd_data['X_train'])\n",
    "    X_test = xscaler.transform(msd_data['X_test'])\n",
    "else:\n",
    "    X_train = msd_data['X_train']\n",
    "    X_test = msd_data['X_test']\n",
    "\n",
    "Y_train = msd_data['Y_train']\n",
    "Y_test = msd_data['Y_test']"
   ]
  },
  {
   "cell_type": "code",
   "execution_count": null,
   "id": "0ad524f2-9a43-43dd-8162-eb455d4f2a57",
   "metadata": {},
   "outputs": [],
   "source": [
    "# Calculate RMSE\n",
    "from sklearn.neighbors import KNeighborsRegressor\n",
    "\n",
    "q1_rmse = []\n",
    "for i in k:\n",
    "    neigh = KNeighborsRegressor(n_neighbors=i)\n",
    "    neigh.fit(X_train, Y_train)\n",
    "    ypred1 = neigh.predict(X_test)\n",
    "    \n",
    "    q1_rmse.append(RMSE(Y_test, ypred1))"
   ]
  },
  {
   "cell_type": "code",
   "execution_count": null,
   "id": "60ceadcf-2769-4303-b678-c285a6f4d535",
   "metadata": {},
   "outputs": [],
   "source": [
    "# Display plot\n",
    "import matplotlib.pyplot as plt\n",
    "\n",
    "plt.plot(k, q1_rmse, color='red')\n",
    "plt.xlabel(\"K\")\n",
    "plt.ylabel(\"RMSE\")\n",
    "plt.title(\"K v.s. RMSE \" + \"Setting 1\")\n",
    "plt.show()"
   ]
  },
  {
   "cell_type": "markdown",
   "id": "4005648a-ffb5-4dc5-aa0b-f19af74962bd",
   "metadata": {},
   "source": [
    "<h3>Q2.2"
   ]
  },
  {
   "cell_type": "code",
   "execution_count": null,
   "id": "9b7b85ec-3109-43af-8042-792e2c3fa932",
   "metadata": {},
   "outputs": [],
   "source": [
    "# Import training and testing data\n",
    "import pickle\n",
    "from sklearn import preprocessing\n",
    "import numpy as np\n",
    "\n",
    "# Load data\n",
    "with open('msd_data1.pickle', 'rb') as fh1:\n",
    "    msd_data = pickle.load(fh1)\n",
    "\n",
    "doscaling = 0\n",
    "\n",
    "if (doscaling == 1):\n",
    "    xscaler = preprocessing.StandardScaler().fit(msd_data['X_train'])\n",
    "    #standardize feature values\n",
    "    X_train = xscaler.transform(msd_data['X_train'])\n",
    "    X_test = xscaler.transform(msd_data['X_test'])\n",
    "else:\n",
    "    X_train = msd_data['X_train']\n",
    "    X_test = msd_data['X_test']\n",
    "\n",
    "Y_train = msd_data['Y_train']\n",
    "Y_test = msd_data['Y_test']"
   ]
  },
  {
   "cell_type": "code",
   "execution_count": null,
   "id": "12e8c1b4-5477-4afb-a24f-181fcab4230c",
   "metadata": {},
   "outputs": [],
   "source": [
    "# Calculate RMSE\n",
    "from sklearn.neighbors import KNeighborsRegressor\n",
    "\n",
    "q2_rmse = []\n",
    "for i in k:\n",
    "    neigh = KNeighborsRegressor(n_neighbors=i)\n",
    "    neigh.fit(X_train, Y_train)\n",
    "    ypred2 = neigh.predict(X_test)\n",
    "    \n",
    "    q2_rmse.append(RMSE(Y_test, ypred2))"
   ]
  },
  {
   "cell_type": "code",
   "execution_count": null,
   "id": "5c6152fd-3cc1-4e10-88ed-6562d14b929e",
   "metadata": {},
   "outputs": [],
   "source": [
    "import matplotlib.pyplot as plt\n",
    "\n",
    "plt.plot(k, q2_rmse, color='green')\n",
    "plt.xlabel(\"K\")\n",
    "plt.ylabel(\"RMSE\")\n",
    "plt.title(\"K v.s. RMSE \" + \"Setting 2\")\n",
    "plt.show()"
   ]
  },
  {
   "cell_type": "markdown",
   "id": "f8b02709-36fc-43e4-98b5-09577150c69e",
   "metadata": {},
   "source": [
    "<h3>Q2.3"
   ]
  },
  {
   "cell_type": "code",
   "execution_count": null,
   "id": "bd9cd3bd-6799-4e99-885a-cd73511faf40",
   "metadata": {},
   "outputs": [],
   "source": [
    "# Import training and testing data\n",
    "import pickle\n",
    "from sklearn import preprocessing\n",
    "import numpy as np\n",
    "\n",
    "# Load data\n",
    "with open('msd_data1.pickle', 'rb') as fh1:\n",
    "    msd_data = pickle.load(fh1)\n",
    "\n",
    "doscaling = 1\n",
    "\n",
    "if (doscaling == 1):\n",
    "    xscaler = preprocessing.StandardScaler().fit(msd_data['X_train'])\n",
    "    #standardize feature values\n",
    "    X_train = xscaler.transform(msd_data['X_train'])\n",
    "    X_test = xscaler.transform(msd_data['X_test'])\n",
    "else:\n",
    "    X_train = msd_data['X_train']\n",
    "    X_test = msd_data['X_test']\n",
    "\n",
    "Y_train = msd_data['Y_train']\n",
    "Y_test = msd_data['Y_test']"
   ]
  },
  {
   "cell_type": "code",
   "execution_count": null,
   "id": "f1289c7f-2ab6-4c88-8091-e0b2fb52ac18",
   "metadata": {},
   "outputs": [],
   "source": [
    "# Calculate RMSE\n",
    "q3_rmse = []\n",
    "for i in k:\n",
    "    myknn = myknn_regressor(i, \"remove_outliers\")\n",
    "    myknn.fit(X_train, Y_train)\n",
    "    ypred3 = myknn.predict(X_test)\n",
    "    \n",
    "    q3_rmse.append(RMSE(Y_test, ypred3))"
   ]
  },
  {
   "cell_type": "code",
   "execution_count": null,
   "id": "b8a58154-c28b-4db9-8c60-96e1299419f2",
   "metadata": {},
   "outputs": [],
   "source": [
    "# Display plot\n",
    "import matplotlib.pyplot as plt\n",
    "\n",
    "plt.plot(k, q3_rmse, color='blue')\n",
    "plt.xlabel(\"K\")\n",
    "plt.ylabel(\"RMSE\")\n",
    "plt.title(\"K v.s. RMSE \" + \"Setting 3\")\n",
    "plt.show()"
   ]
  },
  {
   "cell_type": "code",
   "execution_count": null,
   "id": "eae30630-e988-4587-8594-a772fa62156d",
   "metadata": {},
   "outputs": [],
   "source": [
    "# Display all plots in the same figure\n",
    "import matplotlib.pyplot as plt\n",
    "\n",
    "plt.plot(k, q1_rmse, color='red', label=\"Setting 1\")\n",
    "plt.plot(k, q2_rmse, color='green', label=\"Setting 2\")\n",
    "plt.plot(k, q3_rmse, color='blue', label=\"Setting 3\")\n",
    "plt.legend()\n",
    "\n",
    "plt.xlabel(\"K\")\n",
    "plt.ylabel(\"RMSE\")\n",
    "plt.title(\"K v.s. RMSE all Settings\")\n",
    "plt.show()"
   ]
  },
  {
   "cell_type": "markdown",
   "id": "e620b95f-a2a1-44a0-b752-3f9dc3466911",
   "metadata": {},
   "source": [
    "Observations:<br>\n"
   ]
  },
  {
   "cell_type": "markdown",
   "id": "79566772-2ecd-4652-8c50-8d0a67509ae3",
   "metadata": {},
   "source": [
    "<h2>第三題 [Lasso Regression]"
   ]
  },
  {
   "cell_type": "markdown",
   "id": "81189e33-f057-4ae6-b9bd-6a251a9eab13",
   "metadata": {},
   "source": [
    "<h3>Q3.1"
   ]
  },
  {
   "cell_type": "markdown",
   "id": "49b0112a-069f-41be-9945-6219dcd7f5c0",
   "metadata": {},
   "source": [
    "If $ W_j > 0$:\n",
    "$$ W_j = \\frac{\\sum_{i=1}^n (y_i - \\mathbf{w}^T_{-j} x_{i, -j}) x_{i, j} - w_0 \\sum_{i=1}^n x_{i,j} - n \\lambda}{ \\sum_{i=1}^n (x_{i,j}) ^ 2} \\quad$$<br>\n",
    "\n",
    "If $ W_j < 0$:\n",
    "$$ W_j = \\frac{\\sum_{i=1}^n (y_i - \\mathbf{w}^T_{-j} x_{i, -j}) x_{i, j} - w_0 \\sum_{i=1}^n x_{i,j} + n \\lambda}{ \\sum_{i=1}^n (x_{i,j}) ^ 2} \\quad$$<br>\n",
    "\n",
    "Otherwise:\n",
    "$$ W_j = 0 $$"
   ]
  },
  {
   "cell_type": "markdown",
   "id": "8aadffc2-afd2-4f55-8989-e2f877d28f5c",
   "metadata": {},
   "source": [
    "<h3>Q3.2"
   ]
  },
  {
   "cell_type": "code",
   "execution_count": null,
   "id": "5cf1fa6e-72a3-4ef6-bfe7-e6beef881d3c",
   "metadata": {},
   "outputs": [],
   "source": [
    "import numpy as np\n",
    "np.set_printoptions(suppress=True)\n",
    "\n",
    "class mylasso():\n",
    "    def __init__(self, lamcoef = 0.1, max_iter=1000, tol=1e-6, const_regu = False):\n",
    "        \"\"\"lamcoef: the regularization coefficient\n",
    "           max_iter: maximum number of iteration for model training\n",
    "           tol: tolerance for the stopping criteria for model training\n",
    "           const_regu: whether the constant term should be regularized, default to False\n",
    "           \"\"\"\n",
    "        self.lamcoef = lamcoef\n",
    "        self.max_iter = max_iter\n",
    "        self.tol = tol\n",
    "        self.const_reg = const_regu\n",
    "\n",
    "    def fit(self, x_train, y_train, winit = \"ridge\", keep_traindata = True, verbose = False):\n",
    "        \"\"\"Fit a Lasso model\n",
    "           x_train: a numpy matrix that contains training features\n",
    "           y_train: a numpy matrix that contains the label\n",
    "           winit: how weights are initialized, default to \"ridge\", ridge regression\n",
    "           keep_traindata: whether the object is going to keep training data after the training process completed\n",
    "           verbose: output a lot of message\"\"\"\n",
    "        # Array preprocessing\n",
    "        firstCol = np.ones((x_train.shape[0], 1))\n",
    "        ones_x_train = np.concatenate([firstCol, x_train], axis=1)\n",
    "        n = ones_x_train.shape[0]\n",
    "        \n",
    "        # Ridge regression\n",
    "        self.w_t = (np.dot(np.linalg.inv(self.lamcoef * np.eye(ones_x_train.shape[1]) + np.dot(ones_x_train.T, ones_x_train)), np.dot(ones_x_train.T, y_train))).T\n",
    "            # calculate loss\n",
    "        RS = y_train - np.dot(self.w_t, ones_x_train.T)\n",
    "        if self.const_reg == False:\n",
    "            self.L = (np.dot(RS, RS.T) / (2 * n)) + (self.lamcoef * np.sum(np.absolute(np.delete(self.w_t, 0))))\n",
    "        else:\n",
    "            self.L = (np.dot(RS, RS.T) / (2 * n)) + (self.lamcoef * np.sum(np.absolute(self.w_t)))\n",
    "            \n",
    "        # Lasso regression\n",
    "        for itr in range(self.max_iter):\n",
    "                # Coordinate Descent with Soft Thresholding\n",
    "            for j in range(len(self.w_t)):\n",
    "\n",
    "                wj_star = np.dot((y_train - np.dot(np.delete(self.w_t, j), np.delete(ones_x_train.T, j, 0))), ones_x_train[:, j][np.newaxis].T) / (np.dot(ones_x_train[:, j], ones_x_train[:, j][np.newaxis].T))\n",
    "                \n",
    "                if ((self.const_reg == False) and (j == 0)):\n",
    "                    self.w_t[j] = wj_star\n",
    "                    continue\n",
    "                else:\n",
    "                    soft_thre = ((self.lamcoef * n) / (np.dot(ones_x_train[:, j], ones_x_train[:, j][np.newaxis].T)))\n",
    "                \n",
    "                if wj_star > soft_thre:\n",
    "                    self.w_t[j] = (wj_star - soft_thre)\n",
    "                elif wj_star < (-soft_thre):\n",
    "                    self.w_t[j] = (wj_star + soft_thre)\n",
    "                else:\n",
    "                    self.w_t[j] = 0\n",
    "                    \n",
    "                # calculate loss\n",
    "            RS = y_train - np.dot(self.w_t, (ones_x_train).T)\n",
    "            if self.const_reg == False:\n",
    "                tempL = (np.dot(RS, RS.T) / (2 * n)) + (self.lamcoef * np.sum(np.absolute(np.delete(self.w_t, 0))))\n",
    "            else:\n",
    "                tempL = (np.dot(RS, RS.T) / (2 * n)) + (self.lamcoef * np.sum(np.absolute(self.w_t)))\n",
    "                \n",
    "                # loss constraint\n",
    "            if (self.L - tempL) < self.tol:\n",
    "                self.L = tempL\n",
    "                break\n",
    "            \n",
    "                # save loss\n",
    "            self.L = tempL\n",
    "        \n",
    "        # Keep training data\n",
    "        if(keep_traindata == True):\n",
    "            self.x_train = np.array(x_train)\n",
    "            self.y_train = np.array(y_train)\n",
    "\n",
    "    def predict(self, x_test):\n",
    "        \"\"\"Make prediction using trained model\"\"\"\n",
    "        firstCol = np.ones((x_test.shape[0], 1))\n",
    "        ones_x_test = np.concatenate([firstCol, x_test], axis=1)\n",
    "        return np.dot(self.w_t, ones_x_test.T), self.L, self.w_t"
   ]
  },
  {
   "cell_type": "code",
   "execution_count": null,
   "id": "81cf6065-6a83-48bd-94ee-8cff5f858b07",
   "metadata": {},
   "outputs": [],
   "source": [
    "#load the dataset, and create normalized and raw features. \n",
    "import pickle\n",
    "from sklearn import preprocessing\n",
    "import numpy as np\n",
    "np.set_printoptions(suppress=True)\n",
    "\n",
    "#Load data\n",
    "with open('msd_data1.pickle', 'rb') as fh1:\n",
    "    msd_data = pickle.load(fh1)\n",
    "\n",
    "xscaler = preprocessing.StandardScaler().fit(msd_data['X_train'])\n",
    "#standardize feature values\n",
    "X_train = xscaler.transform(msd_data['X_train'])\n",
    "X_test = xscaler.transform(msd_data['X_test'])\n",
    "\n",
    "#outcome values\n",
    "Y_train = msd_data['Y_train']\n",
    "Y_test = msd_data['Y_test']"
   ]
  },
  {
   "cell_type": "markdown",
   "id": "38075a83-62b0-4910-9f67-24d0d470853b",
   "metadata": {},
   "source": [
    "<h3>Q3.3"
   ]
  },
  {
   "cell_type": "code",
   "execution_count": null,
   "id": "c6db59c5-d846-44eb-8923-f746b769bb0a",
   "metadata": {},
   "outputs": [],
   "source": [
    "# MAE calculator\n",
    "def MAE(y_test, y_pred):\n",
    "    return (np.sum(np.absolute(y_test - y_pred)) / y_test.shape[0])"
   ]
  },
  {
   "cell_type": "code",
   "execution_count": null,
   "id": "414b2cdc-8e5b-4172-9ea2-e37eca841622",
   "metadata": {},
   "outputs": [],
   "source": [
    "# Main executing code\n",
    "mlo = mylasso(lamcoef = 0.1)\n",
    "mlo.fit(X_train, Y_train)\n",
    "ypred3, loss3, w3 = mlo.predict(X_train)"
   ]
  },
  {
   "cell_type": "code",
   "execution_count": null,
   "id": "801d3880-0ccd-4d09-a2c2-65e3efc33bef",
   "metadata": {},
   "outputs": [],
   "source": [
    "# Display code\n",
    "print(\"Training Loss:\", loss3)\n",
    "print(\"RMSE in Training Data:\", RMSE(Y_train, ypred3))\n",
    "print(\"MAE in Training Data:\", MAE(Y_train, ypred3))\n",
    "print(\"Intercept:\", w3[0])\n",
    "print(\"Feature Weights:\\n\", w3[1:])\n",
    "print(\"Number of Nonzero Weights:\", np.count_nonzero(w3[1:]))"
   ]
  },
  {
   "cell_type": "markdown",
   "id": "4d97ccbb-f980-4a15-8956-f0a3d428373c",
   "metadata": {},
   "source": [
    "<h3>Q3.4"
   ]
  },
  {
   "cell_type": "code",
   "execution_count": null,
   "id": "58e0c0bd-0e9e-408e-b60c-bc3263985669",
   "metadata": {},
   "outputs": [],
   "source": [
    "# Main executing code\n",
    "mlo = mylasso(lamcoef = 0.1)\n",
    "mlo.fit(X_train, Y_train)\n",
    "ypred4, loss4, w4 = mlo.predict(X_test)"
   ]
  },
  {
   "cell_type": "code",
   "execution_count": null,
   "id": "24c5e645-2530-4b18-93af-d637e3b19d7d",
   "metadata": {},
   "outputs": [],
   "source": [
    "# Display code\n",
    "print(\"前五筆資料的預測年分:\", ypred4[:5])\n",
    "print(\"RMSE in Testing Data:\", RMSE(Y_test, ypred4))\n",
    "print(\"MAE in Testing Data:\", MAE(Y_test, ypred4))"
   ]
  },
  {
   "cell_type": "markdown",
   "id": "4e7b4303-53bc-4385-b318-30c3206601c0",
   "metadata": {},
   "source": [
    "<h3>Q3.5"
   ]
  },
  {
   "cell_type": "code",
   "execution_count": null,
   "id": "662a5b9d-1ab9-43d0-96c3-5a7b0eabdf29",
   "metadata": {},
   "outputs": [],
   "source": [
    "# Main executing code\n",
    "training_loss = []\n",
    "nonzero_weights = []\n",
    "average_weight = []\n",
    "RMSE_Training = []\n",
    "RMSE_Test = []\n",
    "lam = [0.0001, 0.0005, 0.001, 0.005, 0.01, 0.05, 0.1, 0.5, 1, 2]\n",
    "\n",
    "for i in lam:\n",
    "    mlo = mylasso(lamcoef = i)\n",
    "    mlo.fit(X_train, Y_train)\n",
    "    ypred_train, loss, w = mlo.predict(X_train)\n",
    "    ypred_test, loss, w = mlo.predict(X_test)\n",
    "    \n",
    "    training_loss.append(loss)\n",
    "    nonzero_weights.append(np.count_nonzero(w[1:]))\n",
    "    average_weight.append(np.average(np.absolute(w[1:])))\n",
    "    RMSE_Training.append(RMSE(Y_train, ypred_train))\n",
    "    RMSE_Test.append(RMSE(Y_test, ypred_test))"
   ]
  },
  {
   "cell_type": "code",
   "execution_count": null,
   "id": "6401b1b4-8264-49d0-a8b4-b1127a1fc5a3",
   "metadata": {},
   "outputs": [],
   "source": [
    "# Display code\n",
    "import pandas as pd\n",
    "\n",
    "data = {\"lambda\" : lam,\n",
    "        \"Training Loss\" : training_loss,\n",
    "        \"Number of Nonzero Weights\" : nonzero_weights,\n",
    "        \"Average Weight Size (Mean of Absolute Weight)\" : average_weight,\n",
    "        \"Training RMSE\" : RMSE_Training,\n",
    "        \"Test RMSE\" : RMSE_Test}\n",
    "df = pd.DataFrame(data)\n",
    "display(df)\n",
    "\n",
    "import matplotlib.pyplot as plt\n",
    "\n",
    "col = df.columns\n",
    "for i in range(1, 6):\n",
    "    plt.plot(df.iloc[:, 0], df.iloc[:, i], color='red')\n",
    "    plt.xlabel(\"Lambda\")\n",
    "    plt.ylabel(col[i])\n",
    "    plt.title(\"lambda v.s. \" + col[i])\n",
    "    plt.show()"
   ]
  },
  {
   "cell_type": "markdown",
   "id": "5c218bb5-11ca-435e-ad05-b71cbbf838ac",
   "metadata": {},
   "source": [
    "Observations:<br>\n"
   ]
  },
  {
   "cell_type": "code",
   "execution_count": null,
   "id": "a4455bc6-5a17-4f58-aa28-c96813077d8b",
   "metadata": {},
   "outputs": [],
   "source": []
  }
 ],
 "metadata": {
  "kernelspec": {
   "display_name": "Python 3 (ipykernel)",
   "language": "python",
   "name": "python3"
  },
  "language_info": {
   "codemirror_mode": {
    "name": "ipython",
    "version": 3
   },
   "file_extension": ".py",
   "mimetype": "text/x-python",
   "name": "python",
   "nbconvert_exporter": "python",
   "pygments_lexer": "ipython3",
   "version": "3.10.5"
  }
 },
 "nbformat": 4,
 "nbformat_minor": 5
}
