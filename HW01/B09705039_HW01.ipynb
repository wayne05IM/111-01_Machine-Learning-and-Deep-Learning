{
 "cells": [
  {
   "cell_type": "markdown",
   "id": "3da51830-77c1-43f8-90ba-1683e37dba2f",
   "metadata": {},
   "source": [
    "<h1>Homework 1"
   ]
  },
  {
   "cell_type": "markdown",
   "id": "f8b4bb18-ab94-4cce-ba53-3e2f66448a15",
   "metadata": {},
   "source": [
    "<h2>第一題 [myknn_regressor]"
   ]
  },
  {
   "cell_type": "markdown",
   "id": "eff3ace8-80b9-4051-be8d-7bbbc497eb17",
   "metadata": {},
   "source": [
    "<h3>Q1.1"
   ]
  },
  {
   "cell_type": "code",
   "execution_count": 1,
   "id": "fc3bbc78-dd59-4731-a05c-3fcdab7d2921",
   "metadata": {},
   "outputs": [],
   "source": [
    "import numpy as np\n",
    "\n",
    "# KNN functions\n",
    "class myknn_regressor():\n",
    "    def __init__(self, n_neighbors = 10, mean_type = \"equal_weight\"):\n",
    "        \"\"\"mean_type can be equal_weight or remove_outliers.\n",
    "                      equal_weight use the same weight for all neighbors.\n",
    "                      remove_outliers remove neighbors out in [Q1 - 1.5 IQR, Q3 + 1.5IQR].\"\"\"\n",
    "        self.k = n_neighbors\n",
    "        if mean_type == \"remove_outliers\" and self.k >= 10:\n",
    "            self.remove = 1;\n",
    "        else:\n",
    "            self.remove = 0;\n",
    "\n",
    "    def fit(self, x_train, y_train):\n",
    "        self.x_train = x_train\n",
    "        self.y_train = y_train\n",
    "\n",
    "    def predict(self, x_test):\n",
    "        \"\"\"use remove_outliers only if k>=10\"\"\"\n",
    "        self.y_pred = []\n",
    "        for u in range(x_test.shape[0]):\n",
    "            # Calculate distance\n",
    "            distance = []\n",
    "            for i in range(self.x_train.shape[0]):\n",
    "                distance.append(np.sum(np.square(x_test[u,:] - self.x_train[i,:])))\n",
    "            \n",
    "            # Choose K nearest\n",
    "            k_nearest = []\n",
    "            for v in range(self.k):\n",
    "                temp = np.argmin(distance)\n",
    "                k_nearest.append(self.y_train[temp])\n",
    "                distance[temp] = 9999999999\n",
    "            \n",
    "            # Remove outliers\n",
    "            if self.remove == 1:\n",
    "                q1 = np.quantile(k_nearest, .25)\n",
    "                q3 = np.quantile(k_nearest, .75)\n",
    "                iqr = q3 - q1\n",
    "                ub = q3 + (1.5 * iqr)\n",
    "                lb = q1 - (1.5 * iqr)\n",
    "                nk_nearest = []\n",
    "                for y in k_nearest:\n",
    "                    if y >= lb and y <= ub:\n",
    "                        nk_nearest.append(y)\n",
    "                k_nearest = nk_nearest\n",
    "               \n",
    "            # Predict y\n",
    "            Ypred = 0\n",
    "            for y in k_nearest:\n",
    "                Ypred += y\n",
    "            Ypred = (Ypred / len(k_nearest))\n",
    "            self.y_pred.append(Ypred)\n",
    "                \n",
    "        return self.y_pred"
   ]
  },
  {
   "cell_type": "code",
   "execution_count": 2,
   "id": "5af21de4-0819-48d9-a3f9-799b9e495933",
   "metadata": {},
   "outputs": [],
   "source": [
    "# Import training and testing data\n",
    "import pickle\n",
    "from sklearn import preprocessing\n",
    "import numpy as np\n",
    "\n",
    "# Load data\n",
    "with open('msd_data1.pickle', 'rb') as fh1:\n",
    "    msd_data = pickle.load(fh1)\n",
    "\n",
    "doscaling = 1\n",
    "\n",
    "if (doscaling == 1):\n",
    "    xscaler = preprocessing.StandardScaler().fit(msd_data['X_train'])\n",
    "    #standardize feature values\n",
    "    X_train = xscaler.transform(msd_data['X_train'])\n",
    "    X_test = xscaler.transform(msd_data['X_test'])\n",
    "else:\n",
    "    X_train = msd_data['X_train']\n",
    "    X_test = msd_data['X_test']\n",
    "\n",
    "Y_train = msd_data['Y_train']\n",
    "Y_test = msd_data['Y_test']"
   ]
  },
  {
   "cell_type": "markdown",
   "id": "59993b39-f5cf-4d09-ab79-2f2516ed1025",
   "metadata": {},
   "source": [
    "<h3>Q1.2"
   ]
  },
  {
   "cell_type": "code",
   "execution_count": 3,
   "id": "c25afeb2-6f4f-4bfa-8014-0f3fc07da65a",
   "metadata": {},
   "outputs": [],
   "source": [
    "# RMSE Calculator\n",
    "def RMSE(y_test, y_pred):\n",
    "    return (np.sum(np.square(y_test - y_pred)) / y_test.shape[0]) ** 0.5"
   ]
  },
  {
   "cell_type": "code",
   "execution_count": 4,
   "id": "4d472fc9-ed4f-4984-b9cd-54b0ad29276f",
   "metadata": {
    "tags": []
   },
   "outputs": [],
   "source": [
    "# Main executing code\n",
    "myknn = myknn_regressor(20, \"equal_weight\")\n",
    "myknn.fit(X_train, Y_train)\n",
    "ypred2 = myknn.predict(X_test)"
   ]
  },
  {
   "cell_type": "code",
   "execution_count": 5,
   "id": "ea00afee-6f38-4d4f-9ffd-4cdd3755cfad",
   "metadata": {},
   "outputs": [
    {
     "name": "stdout",
     "output_type": "stream",
     "text": [
      "RMSE = 10.25126451549596\n",
      "Prediction 1 : 1993.35\n",
      "Prediction 2 : 1993.8\n",
      "Prediction 3 : 2000.65\n",
      "Prediction 4 : 1991.5\n",
      "Prediction 5 : 1992.8\n",
      "Prediction 6 : 1998.5\n",
      "Prediction 7 : 1988.1\n",
      "Prediction 8 : 1991.65\n",
      "Prediction 9 : 2002.25\n",
      "Prediction 10 : 2003.0\n",
      "Prediction 11 : 2000.5\n",
      "Prediction 12 : 1998.65\n",
      "Prediction 13 : 1995.55\n",
      "Prediction 14 : 1997.2\n",
      "Prediction 15 : 1995.05\n",
      "Prediction 16 : 1997.4\n",
      "Prediction 17 : 1992.15\n",
      "Prediction 18 : 2000.45\n",
      "Prediction 19 : 2003.2\n",
      "Prediction 20 : 1995.75\n"
     ]
    }
   ],
   "source": [
    "# RMSE and 20 data\n",
    "print(\"RMSE =\", RMSE(Y_test, ypred2))\n",
    "for i in range(20):\n",
    "    print(\"Prediction\", i + 1, \":\", ypred2[i])"
   ]
  },
  {
   "cell_type": "markdown",
   "id": "3a51eb22-69e5-4926-91cb-ad74795db5d1",
   "metadata": {},
   "source": [
    "<h3>Q1.3"
   ]
  },
  {
   "cell_type": "code",
   "execution_count": 6,
   "id": "111d0f1b-e4f9-403d-9fbe-159ad0d1b188",
   "metadata": {
    "tags": []
   },
   "outputs": [],
   "source": [
    "# Main executing code\n",
    "myknn = myknn_regressor(20, \"remove_outliers\")\n",
    "myknn.fit(X_train, Y_train)\n",
    "ypred3 = myknn.predict(X_test)"
   ]
  },
  {
   "cell_type": "code",
   "execution_count": 7,
   "id": "ba11e2fd-f0d5-488a-86d1-894349112878",
   "metadata": {},
   "outputs": [
    {
     "name": "stdout",
     "output_type": "stream",
     "text": [
      "RMSE = 10.212572466080376\n",
      "Prediction 1 : 1993.35\n",
      "Prediction 2 : 1993.8\n",
      "Prediction 3 : 2000.65\n",
      "Prediction 4 : 1992.7368421052631\n",
      "Prediction 5 : 1992.8\n",
      "Prediction 6 : 2000.0\n",
      "Prediction 7 : 1988.1\n",
      "Prediction 8 : 1991.65\n",
      "Prediction 9 : 2002.25\n",
      "Prediction 10 : 2003.9473684210527\n",
      "Prediction 11 : 2000.5\n",
      "Prediction 12 : 2000.9444444444443\n",
      "Prediction 13 : 1995.55\n",
      "Prediction 14 : 1997.2\n",
      "Prediction 15 : 1998.611111111111\n",
      "Prediction 16 : 1997.4\n",
      "Prediction 17 : 1992.15\n",
      "Prediction 18 : 2003.8333333333333\n",
      "Prediction 19 : 2003.2\n",
      "Prediction 20 : 1995.75\n"
     ]
    }
   ],
   "source": [
    "# RMSE and 20 data\n",
    "print(\"RMSE =\", RMSE(Y_test, ypred3))\n",
    "for i in range(20):\n",
    "    print(\"Prediction\", i + 1, \":\", ypred3[i])"
   ]
  },
  {
   "cell_type": "markdown",
   "id": "7906c53c-7a76-40bf-8eba-9fd991d54f02",
   "metadata": {},
   "source": [
    "<h2>第二題 [Tuning the Hyper-parameter]"
   ]
  },
  {
   "cell_type": "code",
   "execution_count": 8,
   "id": "01208bf9-bf61-4cfb-b02a-accb83a248e1",
   "metadata": {},
   "outputs": [],
   "source": [
    "k = [1, 2, 3, 4, 5, 10, 15, 20, 25, 30, 35, 40, 45, 50, 55, 60, 80, 100, 120, 140, 160, 180, 200]"
   ]
  },
  {
   "cell_type": "markdown",
   "id": "54b972b7-1543-4188-80a2-d5678335a987",
   "metadata": {},
   "source": [
    "<h3>Q2.1"
   ]
  },
  {
   "cell_type": "code",
   "execution_count": 9,
   "id": "5867cf3e-1f45-42ea-9051-5f9a08382574",
   "metadata": {},
   "outputs": [],
   "source": [
    "# Import training and testing data\n",
    "import pickle\n",
    "from sklearn import preprocessing\n",
    "import numpy as np\n",
    "\n",
    "# Load data\n",
    "with open('msd_data1.pickle', 'rb') as fh1:\n",
    "    msd_data = pickle.load(fh1)\n",
    "\n",
    "doscaling = 1\n",
    "\n",
    "if (doscaling == 1):\n",
    "    xscaler = preprocessing.StandardScaler().fit(msd_data['X_train'])\n",
    "    #standardize feature values\n",
    "    X_train = xscaler.transform(msd_data['X_train'])\n",
    "    X_test = xscaler.transform(msd_data['X_test'])\n",
    "else:\n",
    "    X_train = msd_data['X_train']\n",
    "    X_test = msd_data['X_test']\n",
    "\n",
    "Y_train = msd_data['Y_train']\n",
    "Y_test = msd_data['Y_test']"
   ]
  },
  {
   "cell_type": "code",
   "execution_count": 10,
   "id": "0ad524f2-9a43-43dd-8162-eb455d4f2a57",
   "metadata": {},
   "outputs": [],
   "source": [
    "# Calculate RMSE\n",
    "from sklearn.neighbors import KNeighborsRegressor\n",
    "\n",
    "q1_rmse = []\n",
    "for i in k:\n",
    "    neigh = KNeighborsRegressor(n_neighbors=i)\n",
    "    neigh.fit(X_train, Y_train)\n",
    "    ypred1 = neigh.predict(X_test)\n",
    "    \n",
    "    q1_rmse.append(RMSE(Y_test, ypred1))"
   ]
  },
  {
   "cell_type": "code",
   "execution_count": 11,
   "id": "60ceadcf-2769-4303-b678-c285a6f4d535",
   "metadata": {},
   "outputs": [
    {
     "data": {
      "image/png": "[encoded data removed]",
      "text/plain": [
       "<Figure size 432x288 with 1 Axes>"
      ]
     },
     "metadata": {
      "needs_background": "light"
     },
     "output_type": "display_data"
    }
   ],
   "source": [
    "# Display plot\n",
    "import matplotlib.pyplot as plt\n",
    "\n",
    "plt.plot(k, q1_rmse, color='red')\n",
    "plt.xlabel(\"K\")\n",
    "plt.ylabel(\"RMSE\")\n",
    "plt.title(\"K v.s. RMSE \" + \"Setting 1\")\n",
    "plt.show()"
   ]
  },
  {
   "cell_type": "markdown",
   "id": "4005648a-ffb5-4dc5-aa0b-f19af74962bd",
   "metadata": {},
   "source": [
    "<h3>Q2.2"
   ]
  },
  {
   "cell_type": "code",
   "execution_count": 12,
   "id": "9b7b85ec-3109-43af-8042-792e2c3fa932",
   "metadata": {},
   "outputs": [],
   "source": [
    "# Import training and testing data\n",
    "import pickle\n",
    "from sklearn import preprocessing\n",
    "import numpy as np\n",
    "\n",
    "# Load data\n",
    "with open('msd_data1.pickle', 'rb') as fh1:\n",
    "    msd_data = pickle.load(fh1)\n",
    "\n",
    "doscaling = 0\n",
    "\n",
    "if (doscaling == 1):\n",
    "    xscaler = preprocessing.StandardScaler().fit(msd_data['X_train'])\n",
    "    #standardize feature values\n",
    "    X_train = xscaler.transform(msd_data['X_train'])\n",
    "    X_test = xscaler.transform(msd_data['X_test'])\n",
    "else:\n",
    "    X_train = msd_data['X_train']\n",
    "    X_test = msd_data['X_test']\n",
    "\n",
    "Y_train = msd_data['Y_train']\n",
    "Y_test = msd_data['Y_test']"
   ]
  },
  {
   "cell_type": "code",
   "execution_count": 13,
   "id": "12e8c1b4-5477-4afb-a24f-181fcab4230c",
   "metadata": {},
   "outputs": [],
   "source": [
    "# Calculate RMSE\n",
    "from sklearn.neighbors import KNeighborsRegressor\n",
    "\n",
    "q2_rmse = []\n",
    "for i in k:\n",
    "    neigh = KNeighborsRegressor(n_neighbors=i)\n",
    "    neigh.fit(X_train, Y_train)\n",
    "    ypred2 = neigh.predict(X_test)\n",
    "    \n",
    "    q2_rmse.append(RMSE(Y_test, ypred2))"
   ]
  },
  {
   "cell_type": "code",
   "execution_count": 14,
   "id": "5c6152fd-3cc1-4e10-88ed-6562d14b929e",
   "metadata": {},
   "outputs": [
    {
     "data": {
      "image/png": "[encoded data removed]",
      "text/plain": [
       "<Figure size 432x288 with 1 Axes>"
      ]
     },
     "metadata": {
      "needs_background": "light"
     },
     "output_type": "display_data"
    }
   ],
   "source": [
    "import matplotlib.pyplot as plt\n",
    "\n",
    "plt.plot(k, q2_rmse, color='green')\n",
    "plt.xlabel(\"K\")\n",
    "plt.ylabel(\"RMSE\")\n",
    "plt.title(\"K v.s. RMSE \" + \"Setting 2\")\n",
    "plt.show()"
   ]
  },
  {
   "cell_type": "markdown",
   "id": "f8b02709-36fc-43e4-98b5-09577150c69e",
   "metadata": {},
   "source": [
    "<h3>Q2.3"
   ]
  },
  {
   "cell_type": "code",
   "execution_count": 15,
   "id": "bd9cd3bd-6799-4e99-885a-cd73511faf40",
   "metadata": {},
   "outputs": [],
   "source": [
    "# Import training and testing data\n",
    "import pickle\n",
    "from sklearn import preprocessing\n",
    "import numpy as np\n",
    "\n",
    "# Load data\n",
    "with open('msd_data1.pickle', 'rb') as fh1:\n",
    "    msd_data = pickle.load(fh1)\n",
    "\n",
    "doscaling = 1\n",
    "\n",
    "if (doscaling == 1):\n",
    "    xscaler = preprocessing.StandardScaler().fit(msd_data['X_train'])\n",
    "    #standardize feature values\n",
    "    X_train = xscaler.transform(msd_data['X_train'])\n",
    "    X_test = xscaler.transform(msd_data['X_test'])\n",
    "else:\n",
    "    X_train = msd_data['X_train']\n",
    "    X_test = msd_data['X_test']\n",
    "\n",
    "Y_train = msd_data['Y_train']\n",
    "Y_test = msd_data['Y_test']"
   ]
  },
  {
   "cell_type": "code",
   "execution_count": 16,
   "id": "f1289c7f-2ab6-4c88-8091-e0b2fb52ac18",
   "metadata": {},
   "outputs": [],
   "source": [
    "# Calculate RMSE\n",
    "q3_rmse = []\n",
    "for i in k:\n",
    "    myknn = myknn_regressor(i, \"remove_outliers\")\n",
    "    myknn.fit(X_train, Y_train)\n",
    "    ypred3 = myknn.predict(X_test)\n",
    "    \n",
    "    q3_rmse.append(RMSE(Y_test, ypred3))"
   ]
  },
  {
   "cell_type": "code",
   "execution_count": 17,
   "id": "b8a58154-c28b-4db9-8c60-96e1299419f2",
   "metadata": {},
   "outputs": [
    {
     "data": {
      "image/png": "[encoded data removed]",
      "text/plain": [
       "<Figure size 432x288 with 1 Axes>"
      ]
     },
     "metadata": {
      "needs_background": "light"
     },
     "output_type": "display_data"
    }
   ],
   "source": [
    "# Display plot\n",
    "import matplotlib.pyplot as plt\n",
    "\n",
    "plt.plot(k, q3_rmse, color='blue')\n",
    "plt.xlabel(\"K\")\n",
    "plt.ylabel(\"RMSE\")\n",
    "plt.title(\"K v.s. RMSE \" + \"Setting 3\")\n",
    "plt.show()"
   ]
  },
  {
   "cell_type": "code",
   "execution_count": 18,
   "id": "eae30630-e988-4587-8594-a772fa62156d",
   "metadata": {},
   "outputs": [
    {
     "data": {
      "image/png": "[encoded data removed]",
      "text/plain": [
       "<Figure size 432x288 with 1 Axes>"
      ]
     },
     "metadata": {
      "needs_background": "light"
     },
     "output_type": "display_data"
    }
   ],
   "source": [
    "# Display all plots in the same figure\n",
    "import matplotlib.pyplot as plt\n",
    "\n",
    "plt.plot(k, q1_rmse, color='red', label=\"Setting 1\")\n",
    "plt.plot(k, q2_rmse, color='green', label=\"Setting 2\")\n",
    "plt.plot(k, q3_rmse, color='blue', label=\"Setting 3\")\n",
    "plt.legend()\n",
    "\n",
    "plt.xlabel(\"K\")\n",
    "plt.ylabel(\"RMSE\")\n",
    "plt.title(\"K v.s. RMSE all Settings\")\n",
    "plt.show()"
   ]
  },
  {
   "cell_type": "markdown",
   "id": "e620b95f-a2a1-44a0-b752-3f9dc3466911",
   "metadata": {},
   "source": [
    "Observations:<br>\n",
    "(1) According to the graphs above, RMSE decreases significantly before k = 50 and increases a little bit after k = 50 in all three kinds of settings.<br>\n",
    "(2) From the last graph, we can see that setting 3 by using standardized features and removing outliers RMSE is the lowest among all the other settings, which implies better performance."
   ]
  },
  {
   "cell_type": "markdown",
   "id": "79566772-2ecd-4652-8c50-8d0a67509ae3",
   "metadata": {},
   "source": [
    "<h2>第三題 [Lasso Regression]"
   ]
  },
  {
   "cell_type": "markdown",
   "id": "81189e33-f057-4ae6-b9bd-6a251a9eab13",
   "metadata": {},
   "source": [
    "<h3>Q3.1"
   ]
  },
  {
   "cell_type": "markdown",
   "id": "a06dde72-bdbc-489f-9024-2ed505792ffa",
   "metadata": {},
   "source": [
    "The results below is proved by the similar process in the lecture note, there are just a few differences:<br>\n",
    "(1) The first term in the loss fuction has 1/n as a scalar which won't be differentiated in the process.<br>\n",
    "(2) The term $w_0$ is added to the loss function, which can be differentiated similar to the first term.<br>\n",
    "Thus, the results are shown as below:"
   ]
  },
  {
   "cell_type": "markdown",
   "id": "49b0112a-069f-41be-9945-6219dcd7f5c0",
   "metadata": {},
   "source": [
    "(1) If $j \\neq 0$:<br>\n",
    "If $ W_j > 0$:\n",
    "$$ W_j = \\frac{\\sum_{i=1}^n (y_i - \\mathbf{\\widetilde {w}}^T_{-j} x_{i, -j}) x_{i, j} - \\widetilde {w}_0 \\sum_{i=1}^n x_{i,j} - n \\lambda}{ \\sum_{i=1}^n (x_{i,j}) ^ 2} $$<br>\n",
    "If $ W_j < 0$:\n",
    "$$ W_j = \\frac{\\sum_{i=1}^n (y_i - \\mathbf{\\widetilde {w}}^T_{-j} x_{i, -j}) x_{i, j} - \\widetilde {w}_0 \\sum_{i=1}^n x_{i,j} + n \\lambda}{ \\sum_{i=1}^n (x_{i,j}) ^ 2} $$<br>\n",
    "Otherwise:\n",
    "$$ W_j = 0 $$<br>\n",
    "\n",
    "(2) If $j = 0$:<br>\n",
    "$$ W_j = \\frac{\\sum_{i=1}^n (y_i - \\mathbf{\\widetilde {w}}^T_{-j} x_{i, -j})}{n} $$<br>"
   ]
  },
  {
   "cell_type": "markdown",
   "id": "8aadffc2-afd2-4f55-8989-e2f877d28f5c",
   "metadata": {},
   "source": [
    "<h3>Q3.2"
   ]
  },
  {
   "cell_type": "markdown",
   "id": "ec2a3de3-b0a2-4a42-b95e-783a0b4e8158",
   "metadata": {},
   "source": [
    "We apply the results in Q3.1 to create the Lasso regression code, and the exact same result in class note to create the Ridge regression code."
   ]
  },
  {
   "cell_type": "code",
   "execution_count": 19,
   "id": "5cf1fa6e-72a3-4ef6-bfe7-e6beef881d3c",
   "metadata": {},
   "outputs": [],
   "source": [
    "import numpy as np\n",
    "np.set_printoptions(suppress=True)\n",
    "\n",
    "class mylasso():\n",
    "    def __init__(self, lamcoef = 0.1, max_iter=1000, tol=1e-6, const_regu = False):\n",
    "        \"\"\"lamcoef: the regularization coefficient\n",
    "           max_iter: maximum number of iteration for model training\n",
    "           tol: tolerance for the stopping criteria for model training\n",
    "           const_regu: whether the constant term should be regularized, default to False\n",
    "           \"\"\"\n",
    "        self.lamcoef = lamcoef\n",
    "        self.max_iter = max_iter\n",
    "        self.tol = tol\n",
    "        self.const_reg = const_regu\n",
    "\n",
    "    def fit(self, x_train, y_train, winit = \"ridge\", keep_traindata = True, verbose = False):\n",
    "        \"\"\"Fit a Lasso model\n",
    "           x_train: a numpy matrix that contains training features\n",
    "           y_train: a numpy matrix that contains the label\n",
    "           winit: how weights are initialized, default to \"ridge\", ridge regression\n",
    "           keep_traindata: whether the object is going to keep training data after the training process completed\n",
    "           verbose: output a lot of message\"\"\"\n",
    "        # Array preprocessing\n",
    "        firstCol = np.ones((x_train.shape[0], 1))\n",
    "        ones_x_train = np.concatenate([firstCol, x_train], axis=1)\n",
    "        n = ones_x_train.shape[0]\n",
    "        \n",
    "        # Ridge regression\n",
    "        self.w_t = (np.dot(np.linalg.inv(self.lamcoef * np.eye(ones_x_train.shape[1]) + np.dot(ones_x_train.T, ones_x_train)), np.dot(ones_x_train.T, y_train))).T\n",
    "            # calculate loss\n",
    "        RS = y_train - np.dot(self.w_t, ones_x_train.T)\n",
    "        if self.const_reg == False:\n",
    "            self.L = (np.dot(RS, RS.T) / (2 * n)) + (self.lamcoef * np.sum(np.absolute(np.delete(self.w_t, 0))))\n",
    "        else:\n",
    "            self.L = (np.dot(RS, RS.T) / (2 * n)) + (self.lamcoef * np.sum(np.absolute(self.w_t)))\n",
    "            \n",
    "        # Lasso regression\n",
    "        for itr in range(self.max_iter):\n",
    "                # Coordinate Descent with Soft Thresholding\n",
    "            for j in range(len(self.w_t)):\n",
    "\n",
    "                wj_star = np.dot((y_train - np.dot(np.delete(self.w_t, j), np.delete(ones_x_train.T, j, 0))), ones_x_train[:, j][np.newaxis].T) / (np.dot(ones_x_train[:, j], ones_x_train[:, j][np.newaxis].T))\n",
    "                \n",
    "                if ((self.const_reg == False) and (j == 0)):\n",
    "                    self.w_t[j] = wj_star\n",
    "                    continue\n",
    "                else:\n",
    "                    soft_thre = ((self.lamcoef * n) / (np.dot(ones_x_train[:, j], ones_x_train[:, j][np.newaxis].T)))\n",
    "                \n",
    "                if wj_star > soft_thre:\n",
    "                    self.w_t[j] = (wj_star - soft_thre)\n",
    "                elif wj_star < (-soft_thre):\n",
    "                    self.w_t[j] = (wj_star + soft_thre)\n",
    "                else:\n",
    "                    self.w_t[j] = 0\n",
    "                    \n",
    "                # calculate loss\n",
    "            RS = y_train - np.dot(self.w_t, (ones_x_train).T)\n",
    "            if self.const_reg == False:\n",
    "                tempL = (np.dot(RS, RS.T) / (2 * n)) + (self.lamcoef * np.sum(np.absolute(np.delete(self.w_t, 0))))\n",
    "            else:\n",
    "                tempL = (np.dot(RS, RS.T) / (2 * n)) + (self.lamcoef * np.sum(np.absolute(self.w_t)))\n",
    "                \n",
    "                # loss constraint\n",
    "            if (self.L - tempL) < self.tol:\n",
    "                self.L = tempL\n",
    "                break\n",
    "            \n",
    "                # save loss\n",
    "            self.L = tempL\n",
    "        \n",
    "        # Keep training data\n",
    "        if(keep_traindata == True):\n",
    "            self.x_train = np.array(x_train)\n",
    "            self.y_train = np.array(y_train)\n",
    "\n",
    "    def predict(self, x_test):\n",
    "        \"\"\"Make prediction using trained model\"\"\"\n",
    "        firstCol = np.ones((x_test.shape[0], 1))\n",
    "        ones_x_test = np.concatenate([firstCol, x_test], axis=1)\n",
    "        return np.dot(self.w_t, ones_x_test.T), self.L, self.w_t"
   ]
  },
  {
   "cell_type": "code",
   "execution_count": 20,
   "id": "81cf6065-6a83-48bd-94ee-8cff5f858b07",
   "metadata": {},
   "outputs": [],
   "source": [
    "#load the dataset, and create normalized and raw features. \n",
    "import pickle\n",
    "from sklearn import preprocessing\n",
    "import numpy as np\n",
    "np.set_printoptions(suppress=True)\n",
    "\n",
    "#Load data\n",
    "with open('msd_data1.pickle', 'rb') as fh1:\n",
    "    msd_data = pickle.load(fh1)\n",
    "\n",
    "xscaler = preprocessing.StandardScaler().fit(msd_data['X_train'])\n",
    "#standardize feature values\n",
    "X_train = xscaler.transform(msd_data['X_train'])\n",
    "X_test = xscaler.transform(msd_data['X_test'])\n",
    "\n",
    "#outcome values\n",
    "Y_train = msd_data['Y_train']\n",
    "Y_test = msd_data['Y_test']"
   ]
  },
  {
   "cell_type": "markdown",
   "id": "38075a83-62b0-4910-9f67-24d0d470853b",
   "metadata": {},
   "source": [
    "<h3>Q3.3"
   ]
  },
  {
   "cell_type": "code",
   "execution_count": 21,
   "id": "c6db59c5-d846-44eb-8923-f746b769bb0a",
   "metadata": {},
   "outputs": [],
   "source": [
    "# MAE calculator\n",
    "def MAE(y_test, y_pred):\n",
    "    return (np.sum(np.absolute(y_test - y_pred)) / y_test.shape[0])"
   ]
  },
  {
   "cell_type": "code",
   "execution_count": 22,
   "id": "414b2cdc-8e5b-4172-9ea2-e37eca841622",
   "metadata": {},
   "outputs": [],
   "source": [
    "# Main executing code\n",
    "mlo = mylasso(lamcoef = 0.1)\n",
    "mlo.fit(X_train, Y_train)\n",
    "ypred3, loss3, w3 = mlo.predict(X_train)"
   ]
  },
  {
   "cell_type": "code",
   "execution_count": 23,
   "id": "801d3880-0ccd-4d09-a2c2-65e3efc33bef",
   "metadata": {},
   "outputs": [
    {
     "name": "stdout",
     "output_type": "stream",
     "text": [
      "Training Loss: 49.888404109953655\n",
      "RMSE in Training Data: 9.719499089084628\n",
      "MAE in Training Data: 6.980898009625176\n",
      "Intercept: 1998.2660000000012\n",
      "Feature Weights:\n",
      " [ 4.6518551  -2.45673153 -1.06195885  0.         -0.34275054 -2.94854329\n",
      "  0.         -0.39970268 -0.42653866  0.         -0.23498651 -0.39491058\n",
      "  0.50307719  0.         -0.34207893  0.61674589  0.15722753  0.43489925\n",
      "  0.43595375  1.12941661  0.40663481  0.          1.77743607  0.\n",
      " -0.16842728  0.07833529  0.66391172  0.01297938  0.15350723  0.\n",
      " -0.21762074 -0.22189107  0.         -0.0027548  -0.01707674 -0.2599464\n",
      "  0.          0.28969362  0.34893387  0.         -0.26112569 -0.14488702\n",
      " -0.00995271  0.03497723 -0.03984338  0.          0.00299383 -0.17804306\n",
      "  0.          0.06494382  0.27076506  0.          0.          0.\n",
      "  0.          0.         -0.63813223  0.23761428 -0.19016387  0.\n",
      " -0.18875525  0.         -0.13590668  0.0612754  -0.26619017  0.\n",
      "  0.          0.         -0.03099184  0.         -0.19276517  0.01221358\n",
      "  0.20735199  0.25118247  0.12313494  0.          0.         -0.52945662\n",
      "  0.          0.          0.17859187  0.02408561  0.25291058  0.19360205\n",
      "  0.37064854  0.          0.         -0.29169753  0.          0.        ]\n",
      "Number of Nonzero Weights: 59\n"
     ]
    }
   ],
   "source": [
    "# Display code\n",
    "print(\"Training Loss:\", loss3)\n",
    "print(\"RMSE in Training Data:\", RMSE(Y_train, ypred3))\n",
    "print(\"MAE in Training Data:\", MAE(Y_train, ypred3))\n",
    "print(\"Intercept:\", w3[0])\n",
    "print(\"Feature Weights:\\n\", w3[1:])\n",
    "print(\"Number of Nonzero Weights:\", np.count_nonzero(w3[1:]))"
   ]
  },
  {
   "cell_type": "markdown",
   "id": "4d97ccbb-f980-4a15-8956-f0a3d428373c",
   "metadata": {},
   "source": [
    "<h3>Q3.4"
   ]
  },
  {
   "cell_type": "code",
   "execution_count": 24,
   "id": "58e0c0bd-0e9e-408e-b60c-bc3263985669",
   "metadata": {},
   "outputs": [],
   "source": [
    "# Main executing code\n",
    "mlo = mylasso(lamcoef = 0.1)\n",
    "mlo.fit(X_train, Y_train)\n",
    "ypred4, loss4, w4 = mlo.predict(X_test)"
   ]
  },
  {
   "cell_type": "code",
   "execution_count": 25,
   "id": "24c5e645-2530-4b18-93af-d637e3b19d7d",
   "metadata": {},
   "outputs": [
    {
     "name": "stdout",
     "output_type": "stream",
     "text": [
      "前五筆資料的預測年分: [1991.93191145 1999.07198637 2001.76293602 1991.30317029 1994.42657933]\n",
      "RMSE in Testing Data: 9.648414790970701\n",
      "MAE in Testing Data: 6.9213859614965125\n"
     ]
    }
   ],
   "source": [
    "# Display code\n",
    "print(\"前五筆資料的預測年分:\", ypred4[:5])\n",
    "print(\"RMSE in Testing Data:\", RMSE(Y_test, ypred4))\n",
    "print(\"MAE in Testing Data:\", MAE(Y_test, ypred4))"
   ]
  },
  {
   "cell_type": "markdown",
   "id": "4e7b4303-53bc-4385-b318-30c3206601c0",
   "metadata": {},
   "source": [
    "<h3>Q3.5"
   ]
  },
  {
   "cell_type": "code",
   "execution_count": 26,
   "id": "662a5b9d-1ab9-43d0-96c3-5a7b0eabdf29",
   "metadata": {},
   "outputs": [],
   "source": [
    "# Main executing code\n",
    "training_loss = []\n",
    "nonzero_weights = []\n",
    "average_weight = []\n",
    "RMSE_Training = []\n",
    "RMSE_Test = []\n",
    "lam = [0.0001, 0.0005, 0.001, 0.005, 0.01, 0.05, 0.1, 0.5, 1, 2]\n",
    "\n",
    "for i in lam:\n",
    "    mlo = mylasso(lamcoef = i)\n",
    "    mlo.fit(X_train, Y_train)\n",
    "    ypred_train, loss, w = mlo.predict(X_train)\n",
    "    ypred_test, loss, w = mlo.predict(X_test)\n",
    "    \n",
    "    training_loss.append(loss)\n",
    "    nonzero_weights.append(np.count_nonzero(w[1:]))\n",
    "    average_weight.append(np.average(np.absolute(w[1:])))\n",
    "    RMSE_Training.append(RMSE(Y_train, ypred_train))\n",
    "    RMSE_Test.append(RMSE(Y_test, ypred_test))"
   ]
  },
  {
   "cell_type": "code",
   "execution_count": 27,
   "id": "6401b1b4-8264-49d0-a8b4-b1127a1fc5a3",
   "metadata": {},
   "outputs": [
    {
     "data": {
      "text/html": [
       "<div>\n",
       "<style scoped>\n",
       "    .dataframe tbody tr th:only-of-type {\n",
       "        vertical-align: middle;\n",
       "    }\n",
       "\n",
       "    .dataframe tbody tr th {\n",
       "        vertical-align: top;\n",
       "    }\n",
       "\n",
       "    .dataframe thead th {\n",
       "        text-align: right;\n",
       "    }\n",
       "</style>\n",
       "<table border=\"1\" class=\"dataframe\">\n",
       "  <thead>\n",
       "    <tr style=\"text-align: right;\">\n",
       "      <th></th>\n",
       "      <th>lambda</th>\n",
       "      <th>Training Loss</th>\n",
       "      <th>Number of Nonzero Weights</th>\n",
       "      <th>Average Weight Size (Mean of Absolute Weight)</th>\n",
       "      <th>Training RMSE</th>\n",
       "      <th>Test RMSE</th>\n",
       "    </tr>\n",
       "  </thead>\n",
       "  <tbody>\n",
       "    <tr>\n",
       "      <th>0</th>\n",
       "      <td>0.0001</td>\n",
       "      <td>46.570461</td>\n",
       "      <td>90</td>\n",
       "      <td>0.470656</td>\n",
       "      <td>9.650516</td>\n",
       "      <td>9.644374</td>\n",
       "    </tr>\n",
       "    <tr>\n",
       "      <th>1</th>\n",
       "      <td>0.0005</td>\n",
       "      <td>46.587379</td>\n",
       "      <td>90</td>\n",
       "      <td>0.469507</td>\n",
       "      <td>9.650518</td>\n",
       "      <td>9.644092</td>\n",
       "    </tr>\n",
       "    <tr>\n",
       "      <th>2</th>\n",
       "      <td>0.0010</td>\n",
       "      <td>46.608460</td>\n",
       "      <td>90</td>\n",
       "      <td>0.467906</td>\n",
       "      <td>9.650528</td>\n",
       "      <td>9.643539</td>\n",
       "    </tr>\n",
       "    <tr>\n",
       "      <th>3</th>\n",
       "      <td>0.0050</td>\n",
       "      <td>46.774657</td>\n",
       "      <td>89</td>\n",
       "      <td>0.455754</td>\n",
       "      <td>9.650862</td>\n",
       "      <td>9.640064</td>\n",
       "    </tr>\n",
       "    <tr>\n",
       "      <th>4</th>\n",
       "      <td>0.0100</td>\n",
       "      <td>46.976826</td>\n",
       "      <td>87</td>\n",
       "      <td>0.442903</td>\n",
       "      <td>9.651758</td>\n",
       "      <td>9.636408</td>\n",
       "    </tr>\n",
       "    <tr>\n",
       "      <th>5</th>\n",
       "      <td>0.0500</td>\n",
       "      <td>48.417390</td>\n",
       "      <td>76</td>\n",
       "      <td>0.363977</td>\n",
       "      <td>9.672589</td>\n",
       "      <td>9.626434</td>\n",
       "    </tr>\n",
       "    <tr>\n",
       "      <th>6</th>\n",
       "      <td>0.1000</td>\n",
       "      <td>49.888404</td>\n",
       "      <td>59</td>\n",
       "      <td>0.294897</td>\n",
       "      <td>9.719499</td>\n",
       "      <td>9.648415</td>\n",
       "    </tr>\n",
       "    <tr>\n",
       "      <th>7</th>\n",
       "      <td>0.5000</td>\n",
       "      <td>56.375688</td>\n",
       "      <td>16</td>\n",
       "      <td>0.120031</td>\n",
       "      <td>10.096958</td>\n",
       "      <td>9.999131</td>\n",
       "    </tr>\n",
       "    <tr>\n",
       "      <th>8</th>\n",
       "      <td>1.0000</td>\n",
       "      <td>59.889324</td>\n",
       "      <td>4</td>\n",
       "      <td>0.042175</td>\n",
       "      <td>10.591844</td>\n",
       "      <td>10.474621</td>\n",
       "    </tr>\n",
       "    <tr>\n",
       "      <th>9</th>\n",
       "      <td>2.0000</td>\n",
       "      <td>61.492131</td>\n",
       "      <td>1</td>\n",
       "      <td>0.004266</td>\n",
       "      <td>11.020374</td>\n",
       "      <td>10.902614</td>\n",
       "    </tr>\n",
       "  </tbody>\n",
       "</table>\n",
       "</div>"
      ],
      "text/plain": [
       "   lambda  Training Loss  Number of Nonzero Weights  \\\n",
       "0  0.0001      46.570461                         90   \n",
       "1  0.0005      46.587379                         90   \n",
       "2  0.0010      46.608460                         90   \n",
       "3  0.0050      46.774657                         89   \n",
       "4  0.0100      46.976826                         87   \n",
       "5  0.0500      48.417390                         76   \n",
       "6  0.1000      49.888404                         59   \n",
       "7  0.5000      56.375688                         16   \n",
       "8  1.0000      59.889324                          4   \n",
       "9  2.0000      61.492131                          1   \n",
       "\n",
       "   Average Weight Size (Mean of Absolute Weight)  Training RMSE  Test RMSE  \n",
       "0                                       0.470656       9.650516   9.644374  \n",
       "1                                       0.469507       9.650518   9.644092  \n",
       "2                                       0.467906       9.650528   9.643539  \n",
       "3                                       0.455754       9.650862   9.640064  \n",
       "4                                       0.442903       9.651758   9.636408  \n",
       "5                                       0.363977       9.672589   9.626434  \n",
       "6                                       0.294897       9.719499   9.648415  \n",
       "7                                       0.120031      10.096958   9.999131  \n",
       "8                                       0.042175      10.591844  10.474621  \n",
       "9                                       0.004266      11.020374  10.902614  "
      ]
     },
     "metadata": {},
     "output_type": "display_data"
    },
    {
     "data": {
      "image/png": "[encoded data removed]",
      "text/plain": [
       "<Figure size 432x288 with 1 Axes>"
      ]
     },
     "metadata": {
      "needs_background": "light"
     },
     "output_type": "display_data"
    },
    {
     "data": {
      "image/png": "[encoded data removed]",
      "text/plain": [
       "<Figure size 432x288 with 1 Axes>"
      ]
     },
     "metadata": {
      "needs_background": "light"
     },
     "output_type": "display_data"
    },
    {
     "data": {
      "image/png": "[encoded data removed]",
      "text/plain": [
       "<Figure size 432x288 with 1 Axes>"
      ]
     },
     "metadata": {
      "needs_background": "light"
     },
     "output_type": "display_data"
    },
    {
     "data": {
      "image/png": "[encoded data removed]",
      "text/plain": [
       "<Figure size 432x288 with 1 Axes>"
      ]
     },
     "metadata": {
      "needs_background": "light"
     },
     "output_type": "display_data"
    },
    {
     "data": {
      "image/png": "[encoded data removed]",
      "text/plain": [
       "<Figure size 432x288 with 1 Axes>"
      ]
     },
     "metadata": {
      "needs_background": "light"
     },
     "output_type": "display_data"
    }
   ],
   "source": [
    "# Display code\n",
    "import pandas as pd\n",
    "\n",
    "data = {\"lambda\" : lam,\n",
    "        \"Training Loss\" : training_loss,\n",
    "        \"Number of Nonzero Weights\" : nonzero_weights,\n",
    "        \"Average Weight Size (Mean of Absolute Weight)\" : average_weight,\n",
    "        \"Training RMSE\" : RMSE_Training,\n",
    "        \"Test RMSE\" : RMSE_Test}\n",
    "df = pd.DataFrame(data)\n",
    "display(df)\n",
    "\n",
    "import matplotlib.pyplot as plt\n",
    "\n",
    "col = df.columns\n",
    "for i in range(1, 6):\n",
    "    plt.plot(df.iloc[:, 0], df.iloc[:, i], color='red')\n",
    "    plt.xlabel(\"Lambda\")\n",
    "    plt.ylabel(col[i])\n",
    "    plt.title(\"lambda v.s. \" + col[i])\n",
    "    plt.show()"
   ]
  },
  {
   "cell_type": "markdown",
   "id": "5c218bb5-11ca-435e-ad05-b71cbbf838ac",
   "metadata": {},
   "source": [
    "Observations:<br>\n",
    "When lambda increases, Training Loss, Training RMSE and Test RMSE increases.<br>\n",
    "Number of Nonzero Weights, Average Weight Size decreases.<br>\n",
    "However, we can see some minor RMSE decrease on the test data when lambda is close to 0 but not 0."
   ]
  },
  {
   "cell_type": "code",
   "execution_count": null,
   "id": "c74f4cd9-8048-4a26-acbd-38cca6ab7d74",
   "metadata": {},
   "outputs": [],
   "source": []
  }
 ],
 "metadata": {
  "kernelspec": {
   "display_name": "Python 3 (ipykernel)",
   "language": "python",
   "name": "python3"
  },
  "language_info": {
   "codemirror_mode": {
    "name": "ipython",
    "version": 3
   },
   "file_extension": ".py",
   "mimetype": "text/x-python",
   "name": "python",
   "nbconvert_exporter": "python",
   "pygments_lexer": "ipython3",
   "version": "3.10.5"
  }
 },
 "nbformat": 4,
 "nbformat_minor": 5
}
